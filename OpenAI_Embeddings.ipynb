{
  "nbformat": 4,
  "nbformat_minor": 0,
  "metadata": {
    "colab": {
      "provenance": [],
      "authorship_tag": "ABX9TyP3Ih0Yed1lyXTQCjSPdVYf",
      "include_colab_link": true
    },
    "kernelspec": {
      "name": "python3",
      "display_name": "Python 3"
    },
    "language_info": {
      "name": "python"
    }
  },
  "cells": [
    {
      "cell_type": "markdown",
      "metadata": {
        "id": "view-in-github",
        "colab_type": "text"
      },
      "source": [
        "<a href=\"https://colab.research.google.com/github/siren7075/OpenAI_Embeddings_Public/blob/main/OpenAI_Embeddings.ipynb\" target=\"_parent\"><img src=\"https://colab.research.google.com/assets/colab-badge.svg\" alt=\"Open In Colab\"/></a>"
      ]
    },
    {
      "cell_type": "markdown",
      "source": [
        "Install Open AI"
      ],
      "metadata": {
        "id": "3NrUMafjRvx1"
      }
    },
    {
      "cell_type": "code",
      "source": [
        "!pip install --upgrade openai"
      ],
      "metadata": {
        "colab": {
          "base_uri": "https://localhost:8080/"
        },
        "id": "GUISoZqvRoPM",
        "outputId": "a7be1979-eb30-42da-9968-30548449e23f"
      },
      "execution_count": null,
      "outputs": [
        {
          "output_type": "stream",
          "name": "stdout",
          "text": [
            "Looking in indexes: https://pypi.org/simple, https://us-python.pkg.dev/colab-wheels/public/simple/\n",
            "Requirement already satisfied: openai in /usr/local/lib/python3.7/dist-packages (0.23.0)\n",
            "Requirement already satisfied: pandas-stubs>=1.1.0.11 in /usr/local/lib/python3.7/dist-packages (from openai) (1.2.0.62)\n",
            "Requirement already satisfied: requests>=2.20 in /usr/local/lib/python3.7/dist-packages (from openai) (2.23.0)\n",
            "Requirement already satisfied: typing-extensions in /usr/local/lib/python3.7/dist-packages (from openai) (4.1.1)\n",
            "Requirement already satisfied: tqdm in /usr/local/lib/python3.7/dist-packages (from openai) (4.64.1)\n",
            "Requirement already satisfied: numpy in /usr/local/lib/python3.7/dist-packages (from openai) (1.21.6)\n",
            "Requirement already satisfied: pandas>=1.2.3 in /usr/local/lib/python3.7/dist-packages (from openai) (1.3.5)\n",
            "Requirement already satisfied: openpyxl>=3.0.7 in /usr/local/lib/python3.7/dist-packages (from openai) (3.0.10)\n",
            "Requirement already satisfied: et-xmlfile in /usr/local/lib/python3.7/dist-packages (from openpyxl>=3.0.7->openai) (1.1.0)\n",
            "Requirement already satisfied: pytz>=2017.3 in /usr/local/lib/python3.7/dist-packages (from pandas>=1.2.3->openai) (2022.2.1)\n",
            "Requirement already satisfied: python-dateutil>=2.7.3 in /usr/local/lib/python3.7/dist-packages (from pandas>=1.2.3->openai) (2.8.2)\n",
            "Requirement already satisfied: six>=1.5 in /usr/local/lib/python3.7/dist-packages (from python-dateutil>=2.7.3->pandas>=1.2.3->openai) (1.15.0)\n",
            "Requirement already satisfied: idna<3,>=2.5 in /usr/local/lib/python3.7/dist-packages (from requests>=2.20->openai) (2.10)\n",
            "Requirement already satisfied: urllib3!=1.25.0,!=1.25.1,<1.26,>=1.21.1 in /usr/local/lib/python3.7/dist-packages (from requests>=2.20->openai) (1.24.3)\n",
            "Requirement already satisfied: certifi>=2017.4.17 in /usr/local/lib/python3.7/dist-packages (from requests>=2.20->openai) (2022.6.15)\n",
            "Requirement already satisfied: chardet<4,>=3.0.2 in /usr/local/lib/python3.7/dist-packages (from requests>=2.20->openai) (3.0.4)\n"
          ]
        }
      ]
    },
    {
      "cell_type": "code",
      "execution_count": 12,
      "metadata": {
        "id": "xMH29eBJPekO"
      },
      "outputs": [],
      "source": [
        "# imports\n",
        "from typing import List\n",
        "\n",
        "import pandas as pd\n",
        "import pickle\n",
        "import ast\n",
        "\n",
        "from openai.embeddings_utils import (\n",
        "    get_embedding,\n",
        "    distances_from_embeddings,\n",
        "    tsne_components_from_embeddings,\n",
        "    chart_from_components,\n",
        "    indices_of_nearest_neighbors_from_distances,\n",
        ")"
      ]
    },
    {
      "cell_type": "code",
      "source": [
        "openai.api_key = \"\""
      ],
      "metadata": {
        "id": "zDpy5lOMUt9c"
      },
      "execution_count": null,
      "outputs": []
    },
    {
      "cell_type": "code",
      "source": [
        "df = pd.read_csv(\"/content/Cusips_Combined.csv\")\n",
        "df.head(5)"
      ],
      "metadata": {
        "colab": {
          "base_uri": "https://localhost:8080/",
          "height": 357
        },
        "id": "C0eQa8cPSNAa",
        "outputId": "b658df83-5813-4c7e-c304-016f5017c5ee"
      },
      "execution_count": null,
      "outputs": [
        {
          "output_type": "execute_result",
          "data": {
            "text/plain": [
              "       cusip         security_name  coupon maturity_date issuer  \\\n",
              "0  000000299  S&P 400 MIDCAP INDEX     NaN           NaN   SPXT   \n",
              "1  000000711         S&P 500 INDEX     0.0           NaN   SPXT   \n",
              "2  000000737  DOW JONES INDUS. AVG     0.0           NaN   INDU   \n",
              "3  000001KP1    RUSSELL 1000 INDEX     0.0           NaN    RLG   \n",
              "4  000001KR7     RUSSEL 3000 INDEX     0.0           NaN    RLG   \n",
              "\n",
              "  instrument_type_gps_name industry_group_lehman2_name sector_lehman2_name  \\\n",
              "0                      EMI                     UNKNOWN             UNKNOWN   \n",
              "1                      EMI                     UNKNOWN             UNKNOWN   \n",
              "2                      EMI                     UNKNOWN             UNKNOWN   \n",
              "3                      EMI                     UNKNOWN             UNKNOWN   \n",
              "4                      EMI                     UNKNOWN             UNKNOWN   \n",
              "\n",
              "  currency_code        country rating_moody_or_sp  liquidity  bids  asks  \\\n",
              "0           USD  UNITED STATES                 NR        NaN   NaN   NaN   \n",
              "1           USD  UNITED STATES                 NR        NaN   NaN   NaN   \n",
              "2           USD  UNITED STATES                 NR        NaN   NaN   NaN   \n",
              "3           USD  UNITED STATES                 NR        NaN   NaN   NaN   \n",
              "4           USD  UNITED STATES                 NR        NaN   NaN   NaN   \n",
              "\n",
              "                                            combined  \n",
              "0  S&P 400 MIDCAP INDEX,NULL,NULL,SPXT,EMI,UNKNOW...  \n",
              "1  S&P 500 INDEX,0,NULL,SPXT,EMI,UNKNOWN,UNKNOWN,...  \n",
              "2  DOW JONES INDUS. AVG,0,NULL,INDU,EMI,UNKNOWN,U...  \n",
              "3  RUSSELL 1000 INDEX,0,NULL,RLG,EMI,UNKNOWN,UNKN...  \n",
              "4  RUSSEL 3000 INDEX,0,NULL,RLG,EMI,UNKNOWN,UNKNO...  "
            ],
            "text/html": [
              "\n",
              "  <div id=\"df-bef9d7e8-2bb4-477a-8f37-1c5ce8186a55\">\n",
              "    <div class=\"colab-df-container\">\n",
              "      <div>\n",
              "<style scoped>\n",
              "    .dataframe tbody tr th:only-of-type {\n",
              "        vertical-align: middle;\n",
              "    }\n",
              "\n",
              "    .dataframe tbody tr th {\n",
              "        vertical-align: top;\n",
              "    }\n",
              "\n",
              "    .dataframe thead th {\n",
              "        text-align: right;\n",
              "    }\n",
              "</style>\n",
              "<table border=\"1\" class=\"dataframe\">\n",
              "  <thead>\n",
              "    <tr style=\"text-align: right;\">\n",
              "      <th></th>\n",
              "      <th>cusip</th>\n",
              "      <th>security_name</th>\n",
              "      <th>coupon</th>\n",
              "      <th>maturity_date</th>\n",
              "      <th>issuer</th>\n",
              "      <th>instrument_type_gps_name</th>\n",
              "      <th>industry_group_lehman2_name</th>\n",
              "      <th>sector_lehman2_name</th>\n",
              "      <th>currency_code</th>\n",
              "      <th>country</th>\n",
              "      <th>rating_moody_or_sp</th>\n",
              "      <th>liquidity</th>\n",
              "      <th>bids</th>\n",
              "      <th>asks</th>\n",
              "      <th>combined</th>\n",
              "    </tr>\n",
              "  </thead>\n",
              "  <tbody>\n",
              "    <tr>\n",
              "      <th>0</th>\n",
              "      <td>000000299</td>\n",
              "      <td>S&amp;P 400 MIDCAP INDEX</td>\n",
              "      <td>NaN</td>\n",
              "      <td>NaN</td>\n",
              "      <td>SPXT</td>\n",
              "      <td>EMI</td>\n",
              "      <td>UNKNOWN</td>\n",
              "      <td>UNKNOWN</td>\n",
              "      <td>USD</td>\n",
              "      <td>UNITED STATES</td>\n",
              "      <td>NR</td>\n",
              "      <td>NaN</td>\n",
              "      <td>NaN</td>\n",
              "      <td>NaN</td>\n",
              "      <td>S&amp;P 400 MIDCAP INDEX,NULL,NULL,SPXT,EMI,UNKNOW...</td>\n",
              "    </tr>\n",
              "    <tr>\n",
              "      <th>1</th>\n",
              "      <td>000000711</td>\n",
              "      <td>S&amp;P 500 INDEX</td>\n",
              "      <td>0.0</td>\n",
              "      <td>NaN</td>\n",
              "      <td>SPXT</td>\n",
              "      <td>EMI</td>\n",
              "      <td>UNKNOWN</td>\n",
              "      <td>UNKNOWN</td>\n",
              "      <td>USD</td>\n",
              "      <td>UNITED STATES</td>\n",
              "      <td>NR</td>\n",
              "      <td>NaN</td>\n",
              "      <td>NaN</td>\n",
              "      <td>NaN</td>\n",
              "      <td>S&amp;P 500 INDEX,0,NULL,SPXT,EMI,UNKNOWN,UNKNOWN,...</td>\n",
              "    </tr>\n",
              "    <tr>\n",
              "      <th>2</th>\n",
              "      <td>000000737</td>\n",
              "      <td>DOW JONES INDUS. AVG</td>\n",
              "      <td>0.0</td>\n",
              "      <td>NaN</td>\n",
              "      <td>INDU</td>\n",
              "      <td>EMI</td>\n",
              "      <td>UNKNOWN</td>\n",
              "      <td>UNKNOWN</td>\n",
              "      <td>USD</td>\n",
              "      <td>UNITED STATES</td>\n",
              "      <td>NR</td>\n",
              "      <td>NaN</td>\n",
              "      <td>NaN</td>\n",
              "      <td>NaN</td>\n",
              "      <td>DOW JONES INDUS. AVG,0,NULL,INDU,EMI,UNKNOWN,U...</td>\n",
              "    </tr>\n",
              "    <tr>\n",
              "      <th>3</th>\n",
              "      <td>000001KP1</td>\n",
              "      <td>RUSSELL 1000 INDEX</td>\n",
              "      <td>0.0</td>\n",
              "      <td>NaN</td>\n",
              "      <td>RLG</td>\n",
              "      <td>EMI</td>\n",
              "      <td>UNKNOWN</td>\n",
              "      <td>UNKNOWN</td>\n",
              "      <td>USD</td>\n",
              "      <td>UNITED STATES</td>\n",
              "      <td>NR</td>\n",
              "      <td>NaN</td>\n",
              "      <td>NaN</td>\n",
              "      <td>NaN</td>\n",
              "      <td>RUSSELL 1000 INDEX,0,NULL,RLG,EMI,UNKNOWN,UNKN...</td>\n",
              "    </tr>\n",
              "    <tr>\n",
              "      <th>4</th>\n",
              "      <td>000001KR7</td>\n",
              "      <td>RUSSEL 3000 INDEX</td>\n",
              "      <td>0.0</td>\n",
              "      <td>NaN</td>\n",
              "      <td>RLG</td>\n",
              "      <td>EMI</td>\n",
              "      <td>UNKNOWN</td>\n",
              "      <td>UNKNOWN</td>\n",
              "      <td>USD</td>\n",
              "      <td>UNITED STATES</td>\n",
              "      <td>NR</td>\n",
              "      <td>NaN</td>\n",
              "      <td>NaN</td>\n",
              "      <td>NaN</td>\n",
              "      <td>RUSSEL 3000 INDEX,0,NULL,RLG,EMI,UNKNOWN,UNKNO...</td>\n",
              "    </tr>\n",
              "  </tbody>\n",
              "</table>\n",
              "</div>\n",
              "      <button class=\"colab-df-convert\" onclick=\"convertToInteractive('df-bef9d7e8-2bb4-477a-8f37-1c5ce8186a55')\"\n",
              "              title=\"Convert this dataframe to an interactive table.\"\n",
              "              style=\"display:none;\">\n",
              "        \n",
              "  <svg xmlns=\"http://www.w3.org/2000/svg\" height=\"24px\"viewBox=\"0 0 24 24\"\n",
              "       width=\"24px\">\n",
              "    <path d=\"M0 0h24v24H0V0z\" fill=\"none\"/>\n",
              "    <path d=\"M18.56 5.44l.94 2.06.94-2.06 2.06-.94-2.06-.94-.94-2.06-.94 2.06-2.06.94zm-11 1L8.5 8.5l.94-2.06 2.06-.94-2.06-.94L8.5 2.5l-.94 2.06-2.06.94zm10 10l.94 2.06.94-2.06 2.06-.94-2.06-.94-.94-2.06-.94 2.06-2.06.94z\"/><path d=\"M17.41 7.96l-1.37-1.37c-.4-.4-.92-.59-1.43-.59-.52 0-1.04.2-1.43.59L10.3 9.45l-7.72 7.72c-.78.78-.78 2.05 0 2.83L4 21.41c.39.39.9.59 1.41.59.51 0 1.02-.2 1.41-.59l7.78-7.78 2.81-2.81c.8-.78.8-2.07 0-2.86zM5.41 20L4 18.59l7.72-7.72 1.47 1.35L5.41 20z\"/>\n",
              "  </svg>\n",
              "      </button>\n",
              "      \n",
              "  <style>\n",
              "    .colab-df-container {\n",
              "      display:flex;\n",
              "      flex-wrap:wrap;\n",
              "      gap: 12px;\n",
              "    }\n",
              "\n",
              "    .colab-df-convert {\n",
              "      background-color: #E8F0FE;\n",
              "      border: none;\n",
              "      border-radius: 50%;\n",
              "      cursor: pointer;\n",
              "      display: none;\n",
              "      fill: #1967D2;\n",
              "      height: 32px;\n",
              "      padding: 0 0 0 0;\n",
              "      width: 32px;\n",
              "    }\n",
              "\n",
              "    .colab-df-convert:hover {\n",
              "      background-color: #E2EBFA;\n",
              "      box-shadow: 0px 1px 2px rgba(60, 64, 67, 0.3), 0px 1px 3px 1px rgba(60, 64, 67, 0.15);\n",
              "      fill: #174EA6;\n",
              "    }\n",
              "\n",
              "    [theme=dark] .colab-df-convert {\n",
              "      background-color: #3B4455;\n",
              "      fill: #D2E3FC;\n",
              "    }\n",
              "\n",
              "    [theme=dark] .colab-df-convert:hover {\n",
              "      background-color: #434B5C;\n",
              "      box-shadow: 0px 1px 3px 1px rgba(0, 0, 0, 0.15);\n",
              "      filter: drop-shadow(0px 1px 2px rgba(0, 0, 0, 0.3));\n",
              "      fill: #FFFFFF;\n",
              "    }\n",
              "  </style>\n",
              "\n",
              "      <script>\n",
              "        const buttonEl =\n",
              "          document.querySelector('#df-bef9d7e8-2bb4-477a-8f37-1c5ce8186a55 button.colab-df-convert');\n",
              "        buttonEl.style.display =\n",
              "          google.colab.kernel.accessAllowed ? 'block' : 'none';\n",
              "\n",
              "        async function convertToInteractive(key) {\n",
              "          const element = document.querySelector('#df-bef9d7e8-2bb4-477a-8f37-1c5ce8186a55');\n",
              "          const dataTable =\n",
              "            await google.colab.kernel.invokeFunction('convertToInteractive',\n",
              "                                                     [key], {});\n",
              "          if (!dataTable) return;\n",
              "\n",
              "          const docLinkHtml = 'Like what you see? Visit the ' +\n",
              "            '<a target=\"_blank\" href=https://colab.research.google.com/notebooks/data_table.ipynb>data table notebook</a>'\n",
              "            + ' to learn more about interactive tables.';\n",
              "          element.innerHTML = '';\n",
              "          dataTable['output_type'] = 'display_data';\n",
              "          await google.colab.output.renderOutput(dataTable, element);\n",
              "          const docLink = document.createElement('div');\n",
              "          docLink.innerHTML = docLinkHtml;\n",
              "          element.appendChild(docLink);\n",
              "        }\n",
              "      </script>\n",
              "    </div>\n",
              "  </div>\n",
              "  "
            ]
          },
          "metadata": {},
          "execution_count": 5
        }
      ]
    },
    {
      "cell_type": "code",
      "source": [
        "len(df)"
      ],
      "metadata": {
        "colab": {
          "base_uri": "https://localhost:8080/"
        },
        "id": "viRFi5DDTVK1",
        "outputId": "5c1e3f7c-8e14-4f58-a849-977033690c03"
      },
      "execution_count": null,
      "outputs": [
        {
          "output_type": "execute_result",
          "data": {
            "text/plain": [
              "10102"
            ]
          },
          "metadata": {},
          "execution_count": 6
        }
      ]
    },
    {
      "cell_type": "code",
      "source": [
        "df_1000 = df.head(1000)\n",
        "len(df_1000)"
      ],
      "metadata": {
        "colab": {
          "base_uri": "https://localhost:8080/"
        },
        "id": "s4Qay-hqTWc7",
        "outputId": "d541e037-01bf-4020-a6f7-6f9f254f1fcb"
      },
      "execution_count": null,
      "outputs": [
        {
          "output_type": "execute_result",
          "data": {
            "text/plain": [
              "1000"
            ]
          },
          "metadata": {},
          "execution_count": 7
        }
      ]
    },
    {
      "cell_type": "code",
      "source": [
        "df['davinci_similarity'] = df_1000.combined.apply(lambda x: get_embedding(x, engine='text-similarity-davinci-001'))\n",
        "df.to_csv('/Cusips_Embeddings.csv')"
      ],
      "metadata": {
        "id": "rIFbNe25UEXU"
      },
      "execution_count": null,
      "outputs": []
    },
    {
      "cell_type": "code",
      "source": [
        "df_embeddings = pd.read_csv(\"/content/Cusips_Embeddings.csv\")\n",
        "df_embeddings_1000 = df_embeddings.head(1000)"
      ],
      "metadata": {
        "id": "cFRWEx1OXWV9"
      },
      "execution_count": 9,
      "outputs": []
    },
    {
      "cell_type": "code",
      "source": [
        "# get embeddings for all strings\n",
        "embeddings = df_embeddings_1000.davinci_similarity\n",
        "embeddings_clean = [ast.literal_eval(i) for i in embeddings]"
      ],
      "metadata": {
        "id": "UXcaZ16p7oNJ"
      },
      "execution_count": 13,
      "outputs": []
    },
    {
      "cell_type": "code",
      "source": [
        "query_embedding = embeddings_clean[0]"
      ],
      "metadata": {
        "id": "tqpW1zN18cH-"
      },
      "execution_count": 15,
      "outputs": []
    },
    {
      "cell_type": "code",
      "source": [
        "# get distances between the source embedding and other embeddings (function from embeddings_utils.py)\n",
        "distances = distances_from_embeddings(query_embedding, embeddings_clean, distance_metric=\"cosine\")\n",
        "# get indices of nearest neighbors (function from embeddings_utils.py)\n",
        "indices_of_nearest_neighbors = indices_of_nearest_neighbors_from_distances(distances)"
      ],
      "metadata": {
        "id": "EaXvbdd78uIY"
      },
      "execution_count": 17,
      "outputs": []
    },
    {
      "cell_type": "code",
      "source": [
        "combined_strings = df_embeddings_1000.combined.values.tolist()\n",
        "query_string = combined_strings[0]\n",
        "print(f\"Source string: {query_string}\")"
      ],
      "metadata": {
        "colab": {
          "base_uri": "https://localhost:8080/"
        },
        "id": "2cXPBtXO9Cqd",
        "outputId": "ae30c7eb-430e-488b-cc09-1c090189bea8"
      },
      "execution_count": 18,
      "outputs": [
        {
          "output_type": "stream",
          "name": "stdout",
          "text": [
            "Source string: S&P 400 MIDCAP INDEX,NULL,NULL,SPXT,EMI,UNKNOWN,UNKNOWN,USD,UNITED STATES,NR\n"
          ]
        }
      ]
    },
    {
      "cell_type": "code",
      "source": [
        "# print out its k nearest neighbors, defaults to 5\n",
        "k_counter = 0\n",
        "for i in indices_of_nearest_neighbors:\n",
        "# skip any strings that are identical matches to the starting string\n",
        "    if query_string == combined_strings[i]:\n",
        "        continue\n",
        "    # stop after printing out k articles\n",
        "    if k_counter >= 5:\n",
        "        break\n",
        "    k_counter += 1\n",
        "\n",
        "    # print out the similar strings and their distances\n",
        "    print(\n",
        "        f\"\"\"\n",
        "    --- Recommendation #{k_counter} (nearest neighbor {k_counter} of 5 ---\n",
        "    String: {combined_strings[i]}\n",
        "    Distance: {distances[i]:0.3f}\"\"\"\n",
        "    )"
      ],
      "metadata": {
        "colab": {
          "base_uri": "https://localhost:8080/"
        },
        "id": "u0775SLN9zvX",
        "outputId": "ea6e1742-4513-42f8-b257-2c73c4692a1e"
      },
      "execution_count": 19,
      "outputs": [
        {
          "output_type": "stream",
          "name": "stdout",
          "text": [
            "\n",
            "    --- Recommendation #1 (nearest neighbor 1 of 5 ---\n",
            "    String: S&P 500 INDEX,0,NULL,SPXT,EMI,UNKNOWN,UNKNOWN,USD,UNITED STATES,NR\n",
            "    Distance: 0.025\n",
            "\n",
            "    --- Recommendation #2 (nearest neighbor 2 of 5 ---\n",
            "    String: DOW JONES INDUS. AVG,0,NULL,INDU,EMI,UNKNOWN,UNKNOWN,USD,UNITED STATES,NR\n",
            "    Distance: 0.049\n",
            "\n",
            "    --- Recommendation #3 (nearest neighbor 3 of 5 ---\n",
            "    String: RUSSELL 1000 INDEX,0,NULL,RLG,EMI,UNKNOWN,UNKNOWN,USD,UNITED STATES,NR\n",
            "    Distance: 0.058\n",
            "\n",
            "    --- Recommendation #4 (nearest neighbor 4 of 5 ---\n",
            "    String: INVESCO COMSTOCK FD-A,NULL,NULL,IVZ,INVCOSTK,TRUSTS AND MUTUAL FUNDS,TRUSTS AND FUNDS,USD,UNITED STATES,NR\n",
            "    Distance: 0.073\n",
            "\n",
            "    --- Recommendation #5 (nearest neighbor 5 of 5 ---\n",
            "    String: AFC GAMMA INC,NULL,NULL,AFCG,REIT,INDUSTRIAL,CORPORATE,USD,UNITED STATES,NR\n",
            "    Distance: 0.073\n"
          ]
        }
      ]
    }
  ]
}