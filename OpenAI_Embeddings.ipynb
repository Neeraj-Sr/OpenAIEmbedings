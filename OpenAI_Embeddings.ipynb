{
  "nbformat": 4,
  "nbformat_minor": 0,
  "metadata": {
    "colab": {
      "provenance": [],
      "authorship_tag": "ABX9TyMTqBvyPtrhx2U4BC21wz8c",
      "include_colab_link": true
    },
    "kernelspec": {
      "name": "python3",
      "display_name": "Python 3"
    },
    "language_info": {
      "name": "python"
    }
  },
  "cells": [
    {
      "cell_type": "markdown",
      "metadata": {
        "id": "view-in-github",
        "colab_type": "text"
      },
      "source": [
        "<a href=\"https://colab.research.google.com/github/siren7075/OpenAI_Embeddings_Public/blob/main/OpenAI_Embeddings.ipynb\" target=\"_parent\"><img src=\"https://colab.research.google.com/assets/colab-badge.svg\" alt=\"Open In Colab\"/></a>"
      ]
    },
    {
      "cell_type": "markdown",
      "source": [
        "# Install Open AI and Import Data"
      ],
      "metadata": {
        "id": "bk0CztqwKXiN"
      }
    },
    {
      "cell_type": "code",
      "source": [
        "!pip install --upgrade openai"
      ],
      "metadata": {
        "colab": {
          "base_uri": "https://localhost:8080/"
        },
        "id": "GUISoZqvRoPM",
        "outputId": "f49b0ab6-5fa7-4c41-d53f-0c3ec40165b4"
      },
      "execution_count": 20,
      "outputs": [
        {
          "output_type": "stream",
          "name": "stdout",
          "text": [
            "Looking in indexes: https://pypi.org/simple, https://us-python.pkg.dev/colab-wheels/public/simple/\n",
            "Requirement already satisfied: openai in /usr/local/lib/python3.7/dist-packages (0.23.0)\n",
            "Requirement already satisfied: typing-extensions in /usr/local/lib/python3.7/dist-packages (from openai) (4.1.1)\n",
            "Requirement already satisfied: requests>=2.20 in /usr/local/lib/python3.7/dist-packages (from openai) (2.23.0)\n",
            "Requirement already satisfied: numpy in /usr/local/lib/python3.7/dist-packages (from openai) (1.21.6)\n",
            "Requirement already satisfied: pandas-stubs>=1.1.0.11 in /usr/local/lib/python3.7/dist-packages (from openai) (1.2.0.62)\n",
            "Requirement already satisfied: tqdm in /usr/local/lib/python3.7/dist-packages (from openai) (4.64.1)\n",
            "Requirement already satisfied: openpyxl>=3.0.7 in /usr/local/lib/python3.7/dist-packages (from openai) (3.0.10)\n",
            "Requirement already satisfied: pandas>=1.2.3 in /usr/local/lib/python3.7/dist-packages (from openai) (1.3.5)\n",
            "Requirement already satisfied: et-xmlfile in /usr/local/lib/python3.7/dist-packages (from openpyxl>=3.0.7->openai) (1.1.0)\n",
            "Requirement already satisfied: pytz>=2017.3 in /usr/local/lib/python3.7/dist-packages (from pandas>=1.2.3->openai) (2022.2.1)\n",
            "Requirement already satisfied: python-dateutil>=2.7.3 in /usr/local/lib/python3.7/dist-packages (from pandas>=1.2.3->openai) (2.8.2)\n",
            "Requirement already satisfied: six>=1.5 in /usr/local/lib/python3.7/dist-packages (from python-dateutil>=2.7.3->pandas>=1.2.3->openai) (1.15.0)\n",
            "Requirement already satisfied: urllib3!=1.25.0,!=1.25.1,<1.26,>=1.21.1 in /usr/local/lib/python3.7/dist-packages (from requests>=2.20->openai) (1.24.3)\n",
            "Requirement already satisfied: certifi>=2017.4.17 in /usr/local/lib/python3.7/dist-packages (from requests>=2.20->openai) (2022.6.15)\n",
            "Requirement already satisfied: idna<3,>=2.5 in /usr/local/lib/python3.7/dist-packages (from requests>=2.20->openai) (2.10)\n",
            "Requirement already satisfied: chardet<4,>=3.0.2 in /usr/local/lib/python3.7/dist-packages (from requests>=2.20->openai) (3.0.4)\n"
          ]
        }
      ]
    },
    {
      "cell_type": "code",
      "execution_count": 89,
      "metadata": {
        "id": "xMH29eBJPekO"
      },
      "outputs": [],
      "source": [
        "# imports\n",
        "from typing import List\n",
        "\n",
        "import pandas as pd\n",
        "import pickle\n",
        "import ast\n",
        "\n",
        "from openai.embeddings_utils import (\n",
        "    get_embedding,\n",
        "    distances_from_embeddings,\n",
        "    tsne_components_from_embeddings,\n",
        "    chart_from_components,\n",
        "    indices_of_nearest_neighbors_from_distances,\n",
        ")"
      ]
    },
    {
      "cell_type": "code",
      "source": [
        "openai.api_key=\"sk-\""
      ],
      "metadata": {
        "id": "zDpy5lOMUt9c"
      },
      "execution_count": 26,
      "outputs": []
    },
    {
      "cell_type": "markdown",
      "source": [
        "# Get Embeddings of 1000 bonds"
      ],
      "metadata": {
        "id": "Ue1EEipeK1jf"
      }
    },
    {
      "cell_type": "code",
      "source": [
        "df = pd.read_csv(\"/content/data.refined_combined.csv\")\n",
        "df.head(5)"
      ],
      "metadata": {
        "colab": {
          "base_uri": "https://localhost:8080/",
          "height": 206
        },
        "id": "C0eQa8cPSNAa",
        "outputId": "0a1a2235-72cc-4ce8-f92a-98c5801fb421"
      },
      "execution_count": 27,
      "outputs": [
        {
          "output_type": "execute_result",
          "data": {
            "text/plain": [
              "       cusip                    name instrument     sector    industry  \\\n",
              "0  00184AAC9  AOL TIME WARNER-GLOBAL     TXBLIB  CORPORATE  INDUSTRIAL   \n",
              "1  02079KAB3            ALPHABET INC     TXBLIB  CORPORATE  INDUSTRIAL   \n",
              "2  02079KAC1            ALPHABET INC     TXBLIB  CORPORATE  INDUSTRIAL   \n",
              "3  02079KAE7            ALPHABET INC     TXBLIB  CORPORATE  INDUSTRIAL   \n",
              "4  02079KAF4            ALPHABET INC     TXBLIB  CORPORATE  INDUSTRIAL   \n",
              "\n",
              "           subindustry currency        country  coupon    maturity rating  \\\n",
              "0  MEDIA_ENTERTAINMENT      USD  UNITED STATES   7.625  04/15/2031   BAA3   \n",
              "1           TECHNOLOGY      USD  UNITED STATES   3.375  02/25/2024    AA1   \n",
              "2           TECHNOLOGY      USD  UNITED STATES   1.998  08/15/2026    AA1   \n",
              "3           TECHNOLOGY      USD  UNITED STATES   1.900  08/15/2040    AA1   \n",
              "4           TECHNOLOGY      USD  UNITED STATES   2.050  08/15/2050    AA1   \n",
              "\n",
              "  issuer  liquidity  bids  asks                                 combined  \n",
              "0    TWX        6.0   NaN   NaN   7.625,47953,BAA3,TWX,USD,UNITED STATES  \n",
              "1  GOOGL      101.0   1.0   NaN  3.375,45347,AA1,GOOGL,USD,UNITED STATES  \n",
              "2  GOOGL      110.0   NaN   2.0  1.998,46249,AA1,GOOGL,USD,UNITED STATES  \n",
              "3  GOOGL       37.0   3.0   1.0    1.9,51363,AA1,GOOGL,USD,UNITED STATES  \n",
              "4  GOOGL      112.0   4.0   5.0   2.05,55015,AA1,GOOGL,USD,UNITED STATES  "
            ],
            "text/html": [
              "\n",
              "  <div id=\"df-bcc12cbe-415d-4bf4-b3f7-cb61d90fcfa1\">\n",
              "    <div class=\"colab-df-container\">\n",
              "      <div>\n",
              "<style scoped>\n",
              "    .dataframe tbody tr th:only-of-type {\n",
              "        vertical-align: middle;\n",
              "    }\n",
              "\n",
              "    .dataframe tbody tr th {\n",
              "        vertical-align: top;\n",
              "    }\n",
              "\n",
              "    .dataframe thead th {\n",
              "        text-align: right;\n",
              "    }\n",
              "</style>\n",
              "<table border=\"1\" class=\"dataframe\">\n",
              "  <thead>\n",
              "    <tr style=\"text-align: right;\">\n",
              "      <th></th>\n",
              "      <th>cusip</th>\n",
              "      <th>name</th>\n",
              "      <th>instrument</th>\n",
              "      <th>sector</th>\n",
              "      <th>industry</th>\n",
              "      <th>subindustry</th>\n",
              "      <th>currency</th>\n",
              "      <th>country</th>\n",
              "      <th>coupon</th>\n",
              "      <th>maturity</th>\n",
              "      <th>rating</th>\n",
              "      <th>issuer</th>\n",
              "      <th>liquidity</th>\n",
              "      <th>bids</th>\n",
              "      <th>asks</th>\n",
              "      <th>combined</th>\n",
              "    </tr>\n",
              "  </thead>\n",
              "  <tbody>\n",
              "    <tr>\n",
              "      <th>0</th>\n",
              "      <td>00184AAC9</td>\n",
              "      <td>AOL TIME WARNER-GLOBAL</td>\n",
              "      <td>TXBLIB</td>\n",
              "      <td>CORPORATE</td>\n",
              "      <td>INDUSTRIAL</td>\n",
              "      <td>MEDIA_ENTERTAINMENT</td>\n",
              "      <td>USD</td>\n",
              "      <td>UNITED STATES</td>\n",
              "      <td>7.625</td>\n",
              "      <td>04/15/2031</td>\n",
              "      <td>BAA3</td>\n",
              "      <td>TWX</td>\n",
              "      <td>6.0</td>\n",
              "      <td>NaN</td>\n",
              "      <td>NaN</td>\n",
              "      <td>7.625,47953,BAA3,TWX,USD,UNITED STATES</td>\n",
              "    </tr>\n",
              "    <tr>\n",
              "      <th>1</th>\n",
              "      <td>02079KAB3</td>\n",
              "      <td>ALPHABET INC</td>\n",
              "      <td>TXBLIB</td>\n",
              "      <td>CORPORATE</td>\n",
              "      <td>INDUSTRIAL</td>\n",
              "      <td>TECHNOLOGY</td>\n",
              "      <td>USD</td>\n",
              "      <td>UNITED STATES</td>\n",
              "      <td>3.375</td>\n",
              "      <td>02/25/2024</td>\n",
              "      <td>AA1</td>\n",
              "      <td>GOOGL</td>\n",
              "      <td>101.0</td>\n",
              "      <td>1.0</td>\n",
              "      <td>NaN</td>\n",
              "      <td>3.375,45347,AA1,GOOGL,USD,UNITED STATES</td>\n",
              "    </tr>\n",
              "    <tr>\n",
              "      <th>2</th>\n",
              "      <td>02079KAC1</td>\n",
              "      <td>ALPHABET INC</td>\n",
              "      <td>TXBLIB</td>\n",
              "      <td>CORPORATE</td>\n",
              "      <td>INDUSTRIAL</td>\n",
              "      <td>TECHNOLOGY</td>\n",
              "      <td>USD</td>\n",
              "      <td>UNITED STATES</td>\n",
              "      <td>1.998</td>\n",
              "      <td>08/15/2026</td>\n",
              "      <td>AA1</td>\n",
              "      <td>GOOGL</td>\n",
              "      <td>110.0</td>\n",
              "      <td>NaN</td>\n",
              "      <td>2.0</td>\n",
              "      <td>1.998,46249,AA1,GOOGL,USD,UNITED STATES</td>\n",
              "    </tr>\n",
              "    <tr>\n",
              "      <th>3</th>\n",
              "      <td>02079KAE7</td>\n",
              "      <td>ALPHABET INC</td>\n",
              "      <td>TXBLIB</td>\n",
              "      <td>CORPORATE</td>\n",
              "      <td>INDUSTRIAL</td>\n",
              "      <td>TECHNOLOGY</td>\n",
              "      <td>USD</td>\n",
              "      <td>UNITED STATES</td>\n",
              "      <td>1.900</td>\n",
              "      <td>08/15/2040</td>\n",
              "      <td>AA1</td>\n",
              "      <td>GOOGL</td>\n",
              "      <td>37.0</td>\n",
              "      <td>3.0</td>\n",
              "      <td>1.0</td>\n",
              "      <td>1.9,51363,AA1,GOOGL,USD,UNITED STATES</td>\n",
              "    </tr>\n",
              "    <tr>\n",
              "      <th>4</th>\n",
              "      <td>02079KAF4</td>\n",
              "      <td>ALPHABET INC</td>\n",
              "      <td>TXBLIB</td>\n",
              "      <td>CORPORATE</td>\n",
              "      <td>INDUSTRIAL</td>\n",
              "      <td>TECHNOLOGY</td>\n",
              "      <td>USD</td>\n",
              "      <td>UNITED STATES</td>\n",
              "      <td>2.050</td>\n",
              "      <td>08/15/2050</td>\n",
              "      <td>AA1</td>\n",
              "      <td>GOOGL</td>\n",
              "      <td>112.0</td>\n",
              "      <td>4.0</td>\n",
              "      <td>5.0</td>\n",
              "      <td>2.05,55015,AA1,GOOGL,USD,UNITED STATES</td>\n",
              "    </tr>\n",
              "  </tbody>\n",
              "</table>\n",
              "</div>\n",
              "      <button class=\"colab-df-convert\" onclick=\"convertToInteractive('df-bcc12cbe-415d-4bf4-b3f7-cb61d90fcfa1')\"\n",
              "              title=\"Convert this dataframe to an interactive table.\"\n",
              "              style=\"display:none;\">\n",
              "        \n",
              "  <svg xmlns=\"http://www.w3.org/2000/svg\" height=\"24px\"viewBox=\"0 0 24 24\"\n",
              "       width=\"24px\">\n",
              "    <path d=\"M0 0h24v24H0V0z\" fill=\"none\"/>\n",
              "    <path d=\"M18.56 5.44l.94 2.06.94-2.06 2.06-.94-2.06-.94-.94-2.06-.94 2.06-2.06.94zm-11 1L8.5 8.5l.94-2.06 2.06-.94-2.06-.94L8.5 2.5l-.94 2.06-2.06.94zm10 10l.94 2.06.94-2.06 2.06-.94-2.06-.94-.94-2.06-.94 2.06-2.06.94z\"/><path d=\"M17.41 7.96l-1.37-1.37c-.4-.4-.92-.59-1.43-.59-.52 0-1.04.2-1.43.59L10.3 9.45l-7.72 7.72c-.78.78-.78 2.05 0 2.83L4 21.41c.39.39.9.59 1.41.59.51 0 1.02-.2 1.41-.59l7.78-7.78 2.81-2.81c.8-.78.8-2.07 0-2.86zM5.41 20L4 18.59l7.72-7.72 1.47 1.35L5.41 20z\"/>\n",
              "  </svg>\n",
              "      </button>\n",
              "      \n",
              "  <style>\n",
              "    .colab-df-container {\n",
              "      display:flex;\n",
              "      flex-wrap:wrap;\n",
              "      gap: 12px;\n",
              "    }\n",
              "\n",
              "    .colab-df-convert {\n",
              "      background-color: #E8F0FE;\n",
              "      border: none;\n",
              "      border-radius: 50%;\n",
              "      cursor: pointer;\n",
              "      display: none;\n",
              "      fill: #1967D2;\n",
              "      height: 32px;\n",
              "      padding: 0 0 0 0;\n",
              "      width: 32px;\n",
              "    }\n",
              "\n",
              "    .colab-df-convert:hover {\n",
              "      background-color: #E2EBFA;\n",
              "      box-shadow: 0px 1px 2px rgba(60, 64, 67, 0.3), 0px 1px 3px 1px rgba(60, 64, 67, 0.15);\n",
              "      fill: #174EA6;\n",
              "    }\n",
              "\n",
              "    [theme=dark] .colab-df-convert {\n",
              "      background-color: #3B4455;\n",
              "      fill: #D2E3FC;\n",
              "    }\n",
              "\n",
              "    [theme=dark] .colab-df-convert:hover {\n",
              "      background-color: #434B5C;\n",
              "      box-shadow: 0px 1px 3px 1px rgba(0, 0, 0, 0.15);\n",
              "      filter: drop-shadow(0px 1px 2px rgba(0, 0, 0, 0.3));\n",
              "      fill: #FFFFFF;\n",
              "    }\n",
              "  </style>\n",
              "\n",
              "      <script>\n",
              "        const buttonEl =\n",
              "          document.querySelector('#df-bcc12cbe-415d-4bf4-b3f7-cb61d90fcfa1 button.colab-df-convert');\n",
              "        buttonEl.style.display =\n",
              "          google.colab.kernel.accessAllowed ? 'block' : 'none';\n",
              "\n",
              "        async function convertToInteractive(key) {\n",
              "          const element = document.querySelector('#df-bcc12cbe-415d-4bf4-b3f7-cb61d90fcfa1');\n",
              "          const dataTable =\n",
              "            await google.colab.kernel.invokeFunction('convertToInteractive',\n",
              "                                                     [key], {});\n",
              "          if (!dataTable) return;\n",
              "\n",
              "          const docLinkHtml = 'Like what you see? Visit the ' +\n",
              "            '<a target=\"_blank\" href=https://colab.research.google.com/notebooks/data_table.ipynb>data table notebook</a>'\n",
              "            + ' to learn more about interactive tables.';\n",
              "          element.innerHTML = '';\n",
              "          dataTable['output_type'] = 'display_data';\n",
              "          await google.colab.output.renderOutput(dataTable, element);\n",
              "          const docLink = document.createElement('div');\n",
              "          docLink.innerHTML = docLinkHtml;\n",
              "          element.appendChild(docLink);\n",
              "        }\n",
              "      </script>\n",
              "    </div>\n",
              "  </div>\n",
              "  "
            ]
          },
          "metadata": {},
          "execution_count": 27
        }
      ]
    },
    {
      "cell_type": "code",
      "source": [
        "len(df)"
      ],
      "metadata": {
        "colab": {
          "base_uri": "https://localhost:8080/"
        },
        "id": "viRFi5DDTVK1",
        "outputId": "c19a39e2-a7a3-412d-c665-f09879e8a4ab"
      },
      "execution_count": 28,
      "outputs": [
        {
          "output_type": "execute_result",
          "data": {
            "text/plain": [
              "789"
            ]
          },
          "metadata": {},
          "execution_count": 28
        }
      ]
    },
    {
      "cell_type": "code",
      "source": [
        "df_1000 = df.head(1000)\n",
        "len(df_1000)"
      ],
      "metadata": {
        "colab": {
          "base_uri": "https://localhost:8080/"
        },
        "id": "s4Qay-hqTWc7",
        "outputId": "d4f6688c-ca39-4c32-d92b-8c2a0c43390d"
      },
      "execution_count": 30,
      "outputs": [
        {
          "output_type": "execute_result",
          "data": {
            "text/plain": [
              "789"
            ]
          },
          "metadata": {},
          "execution_count": 30
        }
      ]
    },
    {
      "cell_type": "code",
      "source": [
        "df['davinci_similarity'] = df_1000.combined.apply(lambda x: get_embedding(x, engine='text-similarity-ada-001'))\n",
        "df.to_csv('/Cusips_Embeddings_refined.csv')"
      ],
      "metadata": {
        "id": "rIFbNe25UEXU"
      },
      "execution_count": 31,
      "outputs": []
    },
    {
      "cell_type": "code",
      "source": [
        "df_embeddings = pd.read_csv(\"/Cusips_Embeddings_refined.csv\")\n",
        "df_embeddings_1000 = df_embeddings.head(1000)"
      ],
      "metadata": {
        "id": "cFRWEx1OXWV9"
      },
      "execution_count": 43,
      "outputs": []
    },
    {
      "cell_type": "code",
      "source": [
        "# get embeddings for all strings\n",
        "embeddings = df_embeddings_1000.davinci_similarity\n",
        "# remove colons in the list\n",
        "embeddings_clean = [ast.literal_eval(i) for i in embeddings]"
      ],
      "metadata": {
        "id": "UXcaZ16p7oNJ"
      },
      "execution_count": 44,
      "outputs": []
    },
    {
      "cell_type": "code",
      "source": [
        "embeddings_clean[0][0:3]"
      ],
      "metadata": {
        "colab": {
          "base_uri": "https://localhost:8080/"
        },
        "id": "T7Q7aaCWP6yy",
        "outputId": "8a5ac14b-b05d-4ad4-8289-994a48da4e6b"
      },
      "execution_count": 45,
      "outputs": [
        {
          "output_type": "execute_result",
          "data": {
            "text/plain": [
              "[0.001978249754756689, 0.026390312239527702, 0.013666046783328056]"
            ]
          },
          "metadata": {},
          "execution_count": 45
        }
      ]
    },
    {
      "cell_type": "markdown",
      "source": [
        "# Get distances and indices of nearest neighbors"
      ],
      "metadata": {
        "id": "SYk_jEz_LgGU"
      }
    },
    {
      "cell_type": "code",
      "source": [
        "# get the source embedding\n",
        "query_embedding = embeddings_clean[224]"
      ],
      "metadata": {
        "id": "tqpW1zN18cH-"
      },
      "execution_count": 75,
      "outputs": []
    },
    {
      "cell_type": "code",
      "source": [
        "# get distances between the source embedding and other embeddings (function from embeddings_utils.py)\n",
        "distances = distances_from_embeddings(query_embedding, embeddings_clean, distance_metric=\"cosine\")\n",
        "print (distances[0:3])"
      ],
      "metadata": {
        "id": "EaXvbdd78uIY",
        "colab": {
          "base_uri": "https://localhost:8080/"
        },
        "outputId": "8a62f41f-2ed3-4cbb-c220-7cbbe3e33b8a"
      },
      "execution_count": 76,
      "outputs": [
        {
          "output_type": "stream",
          "name": "stdout",
          "text": [
            "[0.07535786964546454, 0.07352040489687195, 0.09049253363570997]\n"
          ]
        }
      ]
    },
    {
      "cell_type": "code",
      "source": [
        "# get indices of nearest neighbors (function from embeddings_utils.py)\n",
        "indices_of_nearest_neighbors = indices_of_nearest_neighbors_from_distances(distances)\n",
        "print (indices_of_nearest_neighbors[0:3])"
      ],
      "metadata": {
        "colab": {
          "base_uri": "https://localhost:8080/"
        },
        "id": "QBub_O_iNfTJ",
        "outputId": "e4e8d317-7d66-4437-c096-34602be2d3f0"
      },
      "execution_count": 77,
      "outputs": [
        {
          "output_type": "stream",
          "name": "stdout",
          "text": [
            "[224 223 580]\n"
          ]
        }
      ]
    },
    {
      "cell_type": "markdown",
      "source": [
        "#Bond Recommendation based on similarity score\n",
        "\n",
        "---\n",
        "\n"
      ],
      "metadata": {
        "id": "6_GDQznTMC92"
      }
    },
    {
      "cell_type": "code",
      "source": [
        "combined_strings = df_embeddings_1000.combined.values.tolist()\n",
        "# get the source string\n",
        "query_string = combined_strings[224]\n",
        "print(f\"Source string: {query_string}\")"
      ],
      "metadata": {
        "colab": {
          "base_uri": "https://localhost:8080/"
        },
        "id": "2cXPBtXO9Cqd",
        "outputId": "fb88158c-097e-468d-8dae-4e8fae966086"
      },
      "execution_count": 78,
      "outputs": [
        {
          "output_type": "stream",
          "name": "stdout",
          "text": [
            "Source string: 4.75,46767,BAA2,HPQ,USD,UNITED STATES\n"
          ]
        }
      ]
    },
    {
      "cell_type": "code",
      "source": [
        "nameList = df_embeddings_1000.name.values.tolist()\n",
        "liquidityList = df_embeddings_1000.liquidity.values.tolist()\n",
        "bidList = df_embeddings_1000.bids.values.tolist()\n",
        "askList = df_embeddings_1000.asks.values.tolist()\n",
        "industryList = df_embeddings_1000.subindustry.values.tolist()\n",
        "nameList[224]"
      ],
      "metadata": {
        "id": "8tmeMI21pq70",
        "outputId": "217ae731-d959-4d4b-8918-8a5bb49badb3",
        "colab": {
          "base_uri": "https://localhost:8080/",
          "height": 36
        }
      },
      "execution_count": 100,
      "outputs": [
        {
          "output_type": "execute_result",
          "data": {
            "text/plain": [
              "'HP INC'"
            ],
            "application/vnd.google.colaboratory.intrinsic+json": {
              "type": "string"
            }
          },
          "metadata": {},
          "execution_count": 100
        }
      ]
    },
    {
      "cell_type": "markdown",
      "source": [
        "# Recommend similar bond for HP INC\n",
        "Source String: 4.75,46767,BAA2,HPQ,USD,UNITED STATES"
      ],
      "metadata": {
        "id": "5uU4_eeXAT--"
      }
    },
    {
      "cell_type": "code",
      "source": [
        "# print out its k nearest neighbors, defaults to 5\n",
        "k_counter = 0\n",
        "for i in indices_of_nearest_neighbors:\n",
        "# skip any strings that are identical matches to the starting string\n",
        "    if query_string == combined_strings[i]:\n",
        "        continue\n",
        "    if industryList[224] != industryList[i]:\n",
        "        continue\n",
        "    # stop after printing out k articles\n",
        "    if k_counter >= 5:\n",
        "        break\n",
        "    k_counter += 1\n",
        "\n",
        "    # print out the similar strings and their distances\n",
        "    print(\n",
        "        f\"\"\"\n",
        "    --- Recommendation #{k_counter} (nearest neighbor {k_counter} of 5 ---\n",
        "    String: {combined_strings[i]}\n",
        "    Security Name: {nameList[i]}\n",
        "    Accesibility: Trace: {liquidityList[i]}, Bids: {bidList[i]}, Asks: {askList[i]}\n",
        "    Index: {i}\n",
        "    Excel Line: {i+2}\n",
        "    Distance: {distances[i]:0.3f}\"\"\"\n",
        "    )"
      ],
      "metadata": {
        "colab": {
          "base_uri": "https://localhost:8080/"
        },
        "id": "u0775SLN9zvX",
        "outputId": "15da5f5f-1735-45be-fcd1-c1171cd8c951"
      },
      "execution_count": 103,
      "outputs": [
        {
          "output_type": "stream",
          "name": "stdout",
          "text": [
            "\n",
            "    --- Recommendation #1 (nearest neighbor 1 of 5 ---\n",
            "    String: 4,47223,BAA2,HPQ,USD,UNITED STATES\n",
            "    Security Name: HP INC\n",
            "    Accesibility: Trace: 141.0, Bids: 2.0, Asks: 3.0\n",
            "    Index: 223\n",
            "    Excel Line: 225\n",
            "    Distance: 0.025\n",
            "\n",
            "    --- Recommendation #2 (nearest neighbor 2 of 5 ---\n",
            "    String: 4.75,47178,B2,HPQ,USD,UNITED STATES\n",
            "    Security Name: PLANTRONICS INC\n",
            "    Accesibility: Trace: nan, Bids: nan, Asks: nan\n",
            "    Index: 580\n",
            "    Excel Line: 582\n",
            "    Distance: 0.025\n",
            "\n",
            "    --- Recommendation #3 (nearest neighbor 3 of 5 ---\n",
            "    String: 4.75,46583,BAA2,VRSN,USD,UNITED STATES\n",
            "    Security Name: VERISIGN INC\n",
            "    Accesibility: Trace: 135.0, Bids: 3.0, Asks: 1.0\n",
            "    Index: 635\n",
            "    Excel Line: 637\n",
            "    Distance: 0.026\n",
            "\n",
            "    --- Recommendation #4 (nearest neighbor 4 of 5 ---\n",
            "    String: 4.75,45627,BAA3,TRMB,USD,UNITED STATES\n",
            "    Security Name: TRIMBLE NAVIGATION LTD\n",
            "    Accesibility: Trace: 34.0, Bids: 1.0, Asks: nan\n",
            "    Index: 631\n",
            "    Excel Line: 633\n",
            "    Distance: 0.028\n",
            "\n",
            "    --- Recommendation #5 (nearest neighbor 5 of 5 ---\n",
            "    String: 4.25,45086,BAA2,WU,USD,UNITED STATES\n",
            "    Security Name: WESTERN UNION CO/THE\n",
            "    Accesibility: Trace: 51.0, Bids: 2.0, Asks: nan\n",
            "    Index: 705\n",
            "    Excel Line: 707\n",
            "    Distance: 0.029\n"
          ]
        }
      ]
    }
  ]
}